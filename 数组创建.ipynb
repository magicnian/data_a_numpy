{
 "cells": [
  {
   "cell_type": "markdown",
   "metadata": {},
   "source": [
    "### 数组创建"
   ]
  },
  {
   "cell_type": "markdown",
   "metadata": {},
   "source": [
    "有几种方法可以创建数组。"
   ]
  },
  {
   "cell_type": "markdown",
   "metadata": {},
   "source": [
    "例如，你可以使用array函数从常规python列表或元组中创建数组，得到的数组的类型是从python列表中元素的类型推导出来的。"
   ]
  },
  {
   "cell_type": "code",
   "execution_count": 1,
   "metadata": {},
   "outputs": [],
   "source": [
    "import numpy as np"
   ]
  },
  {
   "cell_type": "code",
   "execution_count": 2,
   "metadata": {},
   "outputs": [],
   "source": [
    "a = np.array([2,3,4])"
   ]
  },
  {
   "cell_type": "code",
   "execution_count": 3,
   "metadata": {},
   "outputs": [
    {
     "data": {
      "text/plain": [
       "array([2, 3, 4])"
      ]
     },
     "execution_count": 3,
     "metadata": {},
     "output_type": "execute_result"
    }
   ],
   "source": [
    "a"
   ]
  },
  {
   "cell_type": "code",
   "execution_count": 4,
   "metadata": {},
   "outputs": [
    {
     "data": {
      "text/plain": [
       "dtype('int32')"
      ]
     },
     "execution_count": 4,
     "metadata": {},
     "output_type": "execute_result"
    }
   ],
   "source": [
    "a.dtype"
   ]
  },
  {
   "cell_type": "code",
   "execution_count": 5,
   "metadata": {},
   "outputs": [],
   "source": [
    "b = np.array([1.2,3.5,5.1])"
   ]
  },
  {
   "cell_type": "code",
   "execution_count": 6,
   "metadata": {},
   "outputs": [
    {
     "data": {
      "text/plain": [
       "array([1.2, 3.5, 5.1])"
      ]
     },
     "execution_count": 6,
     "metadata": {},
     "output_type": "execute_result"
    }
   ],
   "source": [
    "b"
   ]
  },
  {
   "cell_type": "code",
   "execution_count": 7,
   "metadata": {},
   "outputs": [
    {
     "data": {
      "text/plain": [
       "dtype('float64')"
      ]
     },
     "execution_count": 7,
     "metadata": {},
     "output_type": "execute_result"
    }
   ],
   "source": [
    "b.dtype"
   ]
  },
  {
   "cell_type": "code",
   "execution_count": null,
   "metadata": {},
   "outputs": [],
   "source": []
  },
  {
   "cell_type": "markdown",
   "metadata": {},
   "source": [
    "一个常见的错误，就是调用array的时候传入多个数字参数，而不是提供单个数字的列表类型作为参数。"
   ]
  },
  {
   "cell_type": "code",
   "execution_count": 8,
   "metadata": {},
   "outputs": [],
   "source": [
    "#a = np.array(1,2,3,4) 错误\n",
    "#a = np.array([1,2,3,4]) 正确"
   ]
  },
  {
   "cell_type": "markdown",
   "metadata": {},
   "source": [
    "array还可以将序列的序列转成二维数组，将序列的序列转换成三维数组，等等。"
   ]
  },
  {
   "cell_type": "code",
   "execution_count": 9,
   "metadata": {},
   "outputs": [],
   "source": [
    "b = np.array([(1.5,2,3),(4,5,6)])"
   ]
  },
  {
   "cell_type": "code",
   "execution_count": 10,
   "metadata": {},
   "outputs": [
    {
     "data": {
      "text/plain": [
       "array([[1.5, 2. , 3. ],\n",
       "       [4. , 5. , 6. ]])"
      ]
     },
     "execution_count": 10,
     "metadata": {},
     "output_type": "execute_result"
    }
   ],
   "source": [
    "b"
   ]
  },
  {
   "cell_type": "code",
   "execution_count": 11,
   "metadata": {},
   "outputs": [
    {
     "data": {
      "text/plain": [
       "dtype('float64')"
      ]
     },
     "execution_count": 11,
     "metadata": {},
     "output_type": "execute_result"
    }
   ],
   "source": [
    "b.dtype"
   ]
  },
  {
   "cell_type": "markdown",
   "metadata": {},
   "source": [
    "也可以在创建试显式指定数组的类型："
   ]
  },
  {
   "cell_type": "code",
   "execution_count": 12,
   "metadata": {},
   "outputs": [],
   "source": [
    "c = np.array([(1,2),(3,4)],dtype=complex)"
   ]
  },
  {
   "cell_type": "code",
   "execution_count": 13,
   "metadata": {},
   "outputs": [
    {
     "data": {
      "text/plain": [
       "array([[1.+0.j, 2.+0.j],\n",
       "       [3.+0.j, 4.+0.j]])"
      ]
     },
     "execution_count": 13,
     "metadata": {},
     "output_type": "execute_result"
    }
   ],
   "source": [
    "c"
   ]
  },
  {
   "cell_type": "markdown",
   "metadata": {},
   "source": [
    "通常，数组的元素最初是未知的，但它的大小是已知的。因此，numpy提供了几个函数来创建具有初始占位符内容的数组，这就减少了数组增长的必要，因为数组增长的操作花费很大。"
   ]
  },
  {
   "cell_type": "markdown",
   "metadata": {},
   "source": [
    "#### 函数zeros创建了一个由0组成的数组，函数empty创建一个数组，其初始内容是随机的，取决于内存的状态。默认情况下，创建的数组的dtype是float64类型的。"
   ]
  },
  {
   "cell_type": "code",
   "execution_count": 14,
   "metadata": {},
   "outputs": [
    {
     "data": {
      "text/plain": [
       "array([[0., 0., 0., 0.],\n",
       "       [0., 0., 0., 0.],\n",
       "       [0., 0., 0., 0.]])"
      ]
     },
     "execution_count": 14,
     "metadata": {},
     "output_type": "execute_result"
    }
   ],
   "source": [
    "np.zeros((3,4))"
   ]
  },
  {
   "cell_type": "code",
   "execution_count": 15,
   "metadata": {},
   "outputs": [
    {
     "data": {
      "text/plain": [
       "array([[[1, 1, 1, 1],\n",
       "        [1, 1, 1, 1],\n",
       "        [1, 1, 1, 1]],\n",
       "\n",
       "       [[1, 1, 1, 1],\n",
       "        [1, 1, 1, 1],\n",
       "        [1, 1, 1, 1]]], dtype=int16)"
      ]
     },
     "execution_count": 15,
     "metadata": {},
     "output_type": "execute_result"
    }
   ],
   "source": [
    "np.ones((2,3,4),dtype=np.int16)"
   ]
  },
  {
   "cell_type": "code",
   "execution_count": 16,
   "metadata": {},
   "outputs": [
    {
     "data": {
      "text/plain": [
       "array([[1.5, 2. , 3. ],\n",
       "       [4. , 5. , 6. ]])"
      ]
     },
     "execution_count": 16,
     "metadata": {},
     "output_type": "execute_result"
    }
   ],
   "source": [
    "np.empty((2,3))"
   ]
  },
  {
   "cell_type": "markdown",
   "metadata": {},
   "source": [
    "为了创建数字组成的数组，numpy提供了一个类似于range的函数，该函数返回数组而不是列表。"
   ]
  },
  {
   "cell_type": "code",
   "execution_count": 17,
   "metadata": {},
   "outputs": [
    {
     "data": {
      "text/plain": [
       "array([10, 15, 20, 25])"
      ]
     },
     "execution_count": 17,
     "metadata": {},
     "output_type": "execute_result"
    }
   ],
   "source": [
    "np.arange(10,30,5) #开始，结束，步长"
   ]
  },
  {
   "cell_type": "code",
   "execution_count": 18,
   "metadata": {},
   "outputs": [
    {
     "data": {
      "text/plain": [
       "array([0. , 0.3, 0.6, 0.9, 1.2, 1.5, 1.8])"
      ]
     },
     "execution_count": 18,
     "metadata": {},
     "output_type": "execute_result"
    }
   ],
   "source": [
    "np.arange(0,2,0.3)"
   ]
  },
  {
   "cell_type": "markdown",
   "metadata": {},
   "source": [
    "当arange与浮点参数一起使用时，由于有限的浮点精度，通常不可能预测所获得的元素的数量。出于这个原因，通常最好使用linspace函数来接收我们想要的元素数量的函数，而不是步长。"
   ]
  },
  {
   "cell_type": "code",
   "execution_count": 19,
   "metadata": {},
   "outputs": [],
   "source": [
    "from numpy import pi"
   ]
  },
  {
   "cell_type": "code",
   "execution_count": 20,
   "metadata": {},
   "outputs": [
    {
     "data": {
      "text/plain": [
       "array([0.  , 0.25, 0.5 , 0.75, 1.  , 1.25, 1.5 , 1.75, 2.  ])"
      ]
     },
     "execution_count": 20,
     "metadata": {},
     "output_type": "execute_result"
    }
   ],
   "source": [
    "np.linspace(0,2,9)"
   ]
  },
  {
   "cell_type": "code",
   "execution_count": 21,
   "metadata": {},
   "outputs": [],
   "source": [
    "x = np.linspace(0,2*pi,100)"
   ]
  },
  {
   "cell_type": "code",
   "execution_count": 22,
   "metadata": {},
   "outputs": [],
   "source": [
    "f = np.sin(x)"
   ]
  },
  {
   "cell_type": "code",
   "execution_count": 24,
   "metadata": {},
   "outputs": [],
   "source": [
    "%matplotlib notebook"
   ]
  },
  {
   "cell_type": "code",
   "execution_count": 25,
   "metadata": {},
   "outputs": [],
   "source": [
    "import matplotlib.pyplot as plt"
   ]
  },
  {
   "cell_type": "code",
   "execution_count": 27,
   "metadata": {},
   "outputs": [
    {
     "data": {
      "application/javascript": [
       "/* Put everything inside the global mpl namespace */\n",
       "window.mpl = {};\n",
       "\n",
       "\n",
       "mpl.get_websocket_type = function() {\n",
       "    if (typeof(WebSocket) !== 'undefined') {\n",
       "        return WebSocket;\n",
       "    } else if (typeof(MozWebSocket) !== 'undefined') {\n",
       "        return MozWebSocket;\n",
       "    } else {\n",
       "        alert('Your browser does not have WebSocket support. ' +\n",
       "              'Please try Chrome, Safari or Firefox ≥ 6. ' +\n",
       "              'Firefox 4 and 5 are also supported but you ' +\n",
       "              'have to enable WebSockets in about:config.');\n",
       "    };\n",
       "}\n",
       "\n",
       "mpl.figure = function(figure_id, websocket, ondownload, parent_element) {\n",
       "    this.id = figure_id;\n",
       "\n",
       "    this.ws = websocket;\n",
       "\n",
       "    this.supports_binary = (this.ws.binaryType != undefined);\n",
       "\n",
       "    if (!this.supports_binary) {\n",
       "        var warnings = document.getElementById(\"mpl-warnings\");\n",
       "        if (warnings) {\n",
       "            warnings.style.display = 'block';\n",
       "            warnings.textContent = (\n",
       "                \"This browser does not support binary websocket messages. \" +\n",
       "                    \"Performance may be slow.\");\n",
       "        }\n",
       "    }\n",
       "\n",
       "    this.imageObj = new Image();\n",
       "\n",
       "    this.context = undefined;\n",
       "    this.message = undefined;\n",
       "    this.canvas = undefined;\n",
       "    this.rubberband_canvas = undefined;\n",
       "    this.rubberband_context = undefined;\n",
       "    this.format_dropdown = undefined;\n",
       "\n",
       "    this.image_mode = 'full';\n",
       "\n",
       "    this.root = $('<div/>');\n",
       "    this._root_extra_style(this.root)\n",
       "    this.root.attr('style', 'display: inline-block');\n",
       "\n",
       "    $(parent_element).append(this.root);\n",
       "\n",
       "    this._init_header(this);\n",
       "    this._init_canvas(this);\n",
       "    this._init_toolbar(this);\n",
       "\n",
       "    var fig = this;\n",
       "\n",
       "    this.waiting = false;\n",
       "\n",
       "    this.ws.onopen =  function () {\n",
       "            fig.send_message(\"supports_binary\", {value: fig.supports_binary});\n",
       "            fig.send_message(\"send_image_mode\", {});\n",
       "            if (mpl.ratio != 1) {\n",
       "                fig.send_message(\"set_dpi_ratio\", {'dpi_ratio': mpl.ratio});\n",
       "            }\n",
       "            fig.send_message(\"refresh\", {});\n",
       "        }\n",
       "\n",
       "    this.imageObj.onload = function() {\n",
       "            if (fig.image_mode == 'full') {\n",
       "                // Full images could contain transparency (where diff images\n",
       "                // almost always do), so we need to clear the canvas so that\n",
       "                // there is no ghosting.\n",
       "                fig.context.clearRect(0, 0, fig.canvas.width, fig.canvas.height);\n",
       "            }\n",
       "            fig.context.drawImage(fig.imageObj, 0, 0);\n",
       "        };\n",
       "\n",
       "    this.imageObj.onunload = function() {\n",
       "        fig.ws.close();\n",
       "    }\n",
       "\n",
       "    this.ws.onmessage = this._make_on_message_function(this);\n",
       "\n",
       "    this.ondownload = ondownload;\n",
       "}\n",
       "\n",
       "mpl.figure.prototype._init_header = function() {\n",
       "    var titlebar = $(\n",
       "        '<div class=\"ui-dialog-titlebar ui-widget-header ui-corner-all ' +\n",
       "        'ui-helper-clearfix\"/>');\n",
       "    var titletext = $(\n",
       "        '<div class=\"ui-dialog-title\" style=\"width: 100%; ' +\n",
       "        'text-align: center; padding: 3px;\"/>');\n",
       "    titlebar.append(titletext)\n",
       "    this.root.append(titlebar);\n",
       "    this.header = titletext[0];\n",
       "}\n",
       "\n",
       "\n",
       "\n",
       "mpl.figure.prototype._canvas_extra_style = function(canvas_div) {\n",
       "\n",
       "}\n",
       "\n",
       "\n",
       "mpl.figure.prototype._root_extra_style = function(canvas_div) {\n",
       "\n",
       "}\n",
       "\n",
       "mpl.figure.prototype._init_canvas = function() {\n",
       "    var fig = this;\n",
       "\n",
       "    var canvas_div = $('<div/>');\n",
       "\n",
       "    canvas_div.attr('style', 'position: relative; clear: both; outline: 0');\n",
       "\n",
       "    function canvas_keyboard_event(event) {\n",
       "        return fig.key_event(event, event['data']);\n",
       "    }\n",
       "\n",
       "    canvas_div.keydown('key_press', canvas_keyboard_event);\n",
       "    canvas_div.keyup('key_release', canvas_keyboard_event);\n",
       "    this.canvas_div = canvas_div\n",
       "    this._canvas_extra_style(canvas_div)\n",
       "    this.root.append(canvas_div);\n",
       "\n",
       "    var canvas = $('<canvas/>');\n",
       "    canvas.addClass('mpl-canvas');\n",
       "    canvas.attr('style', \"left: 0; top: 0; z-index: 0; outline: 0\")\n",
       "\n",
       "    this.canvas = canvas[0];\n",
       "    this.context = canvas[0].getContext(\"2d\");\n",
       "\n",
       "    var backingStore = this.context.backingStorePixelRatio ||\n",
       "\tthis.context.webkitBackingStorePixelRatio ||\n",
       "\tthis.context.mozBackingStorePixelRatio ||\n",
       "\tthis.context.msBackingStorePixelRatio ||\n",
       "\tthis.context.oBackingStorePixelRatio ||\n",
       "\tthis.context.backingStorePixelRatio || 1;\n",
       "\n",
       "    mpl.ratio = (window.devicePixelRatio || 1) / backingStore;\n",
       "\n",
       "    var rubberband = $('<canvas/>');\n",
       "    rubberband.attr('style', \"position: absolute; left: 0; top: 0; z-index: 1;\")\n",
       "\n",
       "    var pass_mouse_events = true;\n",
       "\n",
       "    canvas_div.resizable({\n",
       "        start: function(event, ui) {\n",
       "            pass_mouse_events = false;\n",
       "        },\n",
       "        resize: function(event, ui) {\n",
       "            fig.request_resize(ui.size.width, ui.size.height);\n",
       "        },\n",
       "        stop: function(event, ui) {\n",
       "            pass_mouse_events = true;\n",
       "            fig.request_resize(ui.size.width, ui.size.height);\n",
       "        },\n",
       "    });\n",
       "\n",
       "    function mouse_event_fn(event) {\n",
       "        if (pass_mouse_events)\n",
       "            return fig.mouse_event(event, event['data']);\n",
       "    }\n",
       "\n",
       "    rubberband.mousedown('button_press', mouse_event_fn);\n",
       "    rubberband.mouseup('button_release', mouse_event_fn);\n",
       "    // Throttle sequential mouse events to 1 every 20ms.\n",
       "    rubberband.mousemove('motion_notify', mouse_event_fn);\n",
       "\n",
       "    rubberband.mouseenter('figure_enter', mouse_event_fn);\n",
       "    rubberband.mouseleave('figure_leave', mouse_event_fn);\n",
       "\n",
       "    canvas_div.on(\"wheel\", function (event) {\n",
       "        event = event.originalEvent;\n",
       "        event['data'] = 'scroll'\n",
       "        if (event.deltaY < 0) {\n",
       "            event.step = 1;\n",
       "        } else {\n",
       "            event.step = -1;\n",
       "        }\n",
       "        mouse_event_fn(event);\n",
       "    });\n",
       "\n",
       "    canvas_div.append(canvas);\n",
       "    canvas_div.append(rubberband);\n",
       "\n",
       "    this.rubberband = rubberband;\n",
       "    this.rubberband_canvas = rubberband[0];\n",
       "    this.rubberband_context = rubberband[0].getContext(\"2d\");\n",
       "    this.rubberband_context.strokeStyle = \"#000000\";\n",
       "\n",
       "    this._resize_canvas = function(width, height) {\n",
       "        // Keep the size of the canvas, canvas container, and rubber band\n",
       "        // canvas in synch.\n",
       "        canvas_div.css('width', width)\n",
       "        canvas_div.css('height', height)\n",
       "\n",
       "        canvas.attr('width', width * mpl.ratio);\n",
       "        canvas.attr('height', height * mpl.ratio);\n",
       "        canvas.attr('style', 'width: ' + width + 'px; height: ' + height + 'px;');\n",
       "\n",
       "        rubberband.attr('width', width);\n",
       "        rubberband.attr('height', height);\n",
       "    }\n",
       "\n",
       "    // Set the figure to an initial 600x600px, this will subsequently be updated\n",
       "    // upon first draw.\n",
       "    this._resize_canvas(600, 600);\n",
       "\n",
       "    // Disable right mouse context menu.\n",
       "    $(this.rubberband_canvas).bind(\"contextmenu\",function(e){\n",
       "        return false;\n",
       "    });\n",
       "\n",
       "    function set_focus () {\n",
       "        canvas.focus();\n",
       "        canvas_div.focus();\n",
       "    }\n",
       "\n",
       "    window.setTimeout(set_focus, 100);\n",
       "}\n",
       "\n",
       "mpl.figure.prototype._init_toolbar = function() {\n",
       "    var fig = this;\n",
       "\n",
       "    var nav_element = $('<div/>');\n",
       "    nav_element.attr('style', 'width: 100%');\n",
       "    this.root.append(nav_element);\n",
       "\n",
       "    // Define a callback function for later on.\n",
       "    function toolbar_event(event) {\n",
       "        return fig.toolbar_button_onclick(event['data']);\n",
       "    }\n",
       "    function toolbar_mouse_event(event) {\n",
       "        return fig.toolbar_button_onmouseover(event['data']);\n",
       "    }\n",
       "\n",
       "    for(var toolbar_ind in mpl.toolbar_items) {\n",
       "        var name = mpl.toolbar_items[toolbar_ind][0];\n",
       "        var tooltip = mpl.toolbar_items[toolbar_ind][1];\n",
       "        var image = mpl.toolbar_items[toolbar_ind][2];\n",
       "        var method_name = mpl.toolbar_items[toolbar_ind][3];\n",
       "\n",
       "        if (!name) {\n",
       "            // put a spacer in here.\n",
       "            continue;\n",
       "        }\n",
       "        var button = $('<button/>');\n",
       "        button.addClass('ui-button ui-widget ui-state-default ui-corner-all ' +\n",
       "                        'ui-button-icon-only');\n",
       "        button.attr('role', 'button');\n",
       "        button.attr('aria-disabled', 'false');\n",
       "        button.click(method_name, toolbar_event);\n",
       "        button.mouseover(tooltip, toolbar_mouse_event);\n",
       "\n",
       "        var icon_img = $('<span/>');\n",
       "        icon_img.addClass('ui-button-icon-primary ui-icon');\n",
       "        icon_img.addClass(image);\n",
       "        icon_img.addClass('ui-corner-all');\n",
       "\n",
       "        var tooltip_span = $('<span/>');\n",
       "        tooltip_span.addClass('ui-button-text');\n",
       "        tooltip_span.html(tooltip);\n",
       "\n",
       "        button.append(icon_img);\n",
       "        button.append(tooltip_span);\n",
       "\n",
       "        nav_element.append(button);\n",
       "    }\n",
       "\n",
       "    var fmt_picker_span = $('<span/>');\n",
       "\n",
       "    var fmt_picker = $('<select/>');\n",
       "    fmt_picker.addClass('mpl-toolbar-option ui-widget ui-widget-content');\n",
       "    fmt_picker_span.append(fmt_picker);\n",
       "    nav_element.append(fmt_picker_span);\n",
       "    this.format_dropdown = fmt_picker[0];\n",
       "\n",
       "    for (var ind in mpl.extensions) {\n",
       "        var fmt = mpl.extensions[ind];\n",
       "        var option = $(\n",
       "            '<option/>', {selected: fmt === mpl.default_extension}).html(fmt);\n",
       "        fmt_picker.append(option);\n",
       "    }\n",
       "\n",
       "    // Add hover states to the ui-buttons\n",
       "    $( \".ui-button\" ).hover(\n",
       "        function() { $(this).addClass(\"ui-state-hover\");},\n",
       "        function() { $(this).removeClass(\"ui-state-hover\");}\n",
       "    );\n",
       "\n",
       "    var status_bar = $('<span class=\"mpl-message\"/>');\n",
       "    nav_element.append(status_bar);\n",
       "    this.message = status_bar[0];\n",
       "}\n",
       "\n",
       "mpl.figure.prototype.request_resize = function(x_pixels, y_pixels) {\n",
       "    // Request matplotlib to resize the figure. Matplotlib will then trigger a resize in the client,\n",
       "    // which will in turn request a refresh of the image.\n",
       "    this.send_message('resize', {'width': x_pixels, 'height': y_pixels});\n",
       "}\n",
       "\n",
       "mpl.figure.prototype.send_message = function(type, properties) {\n",
       "    properties['type'] = type;\n",
       "    properties['figure_id'] = this.id;\n",
       "    this.ws.send(JSON.stringify(properties));\n",
       "}\n",
       "\n",
       "mpl.figure.prototype.send_draw_message = function() {\n",
       "    if (!this.waiting) {\n",
       "        this.waiting = true;\n",
       "        this.ws.send(JSON.stringify({type: \"draw\", figure_id: this.id}));\n",
       "    }\n",
       "}\n",
       "\n",
       "\n",
       "mpl.figure.prototype.handle_save = function(fig, msg) {\n",
       "    var format_dropdown = fig.format_dropdown;\n",
       "    var format = format_dropdown.options[format_dropdown.selectedIndex].value;\n",
       "    fig.ondownload(fig, format);\n",
       "}\n",
       "\n",
       "\n",
       "mpl.figure.prototype.handle_resize = function(fig, msg) {\n",
       "    var size = msg['size'];\n",
       "    if (size[0] != fig.canvas.width || size[1] != fig.canvas.height) {\n",
       "        fig._resize_canvas(size[0], size[1]);\n",
       "        fig.send_message(\"refresh\", {});\n",
       "    };\n",
       "}\n",
       "\n",
       "mpl.figure.prototype.handle_rubberband = function(fig, msg) {\n",
       "    var x0 = msg['x0'] / mpl.ratio;\n",
       "    var y0 = (fig.canvas.height - msg['y0']) / mpl.ratio;\n",
       "    var x1 = msg['x1'] / mpl.ratio;\n",
       "    var y1 = (fig.canvas.height - msg['y1']) / mpl.ratio;\n",
       "    x0 = Math.floor(x0) + 0.5;\n",
       "    y0 = Math.floor(y0) + 0.5;\n",
       "    x1 = Math.floor(x1) + 0.5;\n",
       "    y1 = Math.floor(y1) + 0.5;\n",
       "    var min_x = Math.min(x0, x1);\n",
       "    var min_y = Math.min(y0, y1);\n",
       "    var width = Math.abs(x1 - x0);\n",
       "    var height = Math.abs(y1 - y0);\n",
       "\n",
       "    fig.rubberband_context.clearRect(\n",
       "        0, 0, fig.canvas.width / mpl.ratio, fig.canvas.height / mpl.ratio);\n",
       "\n",
       "    fig.rubberband_context.strokeRect(min_x, min_y, width, height);\n",
       "}\n",
       "\n",
       "mpl.figure.prototype.handle_figure_label = function(fig, msg) {\n",
       "    // Updates the figure title.\n",
       "    fig.header.textContent = msg['label'];\n",
       "}\n",
       "\n",
       "mpl.figure.prototype.handle_cursor = function(fig, msg) {\n",
       "    var cursor = msg['cursor'];\n",
       "    switch(cursor)\n",
       "    {\n",
       "    case 0:\n",
       "        cursor = 'pointer';\n",
       "        break;\n",
       "    case 1:\n",
       "        cursor = 'default';\n",
       "        break;\n",
       "    case 2:\n",
       "        cursor = 'crosshair';\n",
       "        break;\n",
       "    case 3:\n",
       "        cursor = 'move';\n",
       "        break;\n",
       "    }\n",
       "    fig.rubberband_canvas.style.cursor = cursor;\n",
       "}\n",
       "\n",
       "mpl.figure.prototype.handle_message = function(fig, msg) {\n",
       "    fig.message.textContent = msg['message'];\n",
       "}\n",
       "\n",
       "mpl.figure.prototype.handle_draw = function(fig, msg) {\n",
       "    // Request the server to send over a new figure.\n",
       "    fig.send_draw_message();\n",
       "}\n",
       "\n",
       "mpl.figure.prototype.handle_image_mode = function(fig, msg) {\n",
       "    fig.image_mode = msg['mode'];\n",
       "}\n",
       "\n",
       "mpl.figure.prototype.updated_canvas_event = function() {\n",
       "    // Called whenever the canvas gets updated.\n",
       "    this.send_message(\"ack\", {});\n",
       "}\n",
       "\n",
       "// A function to construct a web socket function for onmessage handling.\n",
       "// Called in the figure constructor.\n",
       "mpl.figure.prototype._make_on_message_function = function(fig) {\n",
       "    return function socket_on_message(evt) {\n",
       "        if (evt.data instanceof Blob) {\n",
       "            /* FIXME: We get \"Resource interpreted as Image but\n",
       "             * transferred with MIME type text/plain:\" errors on\n",
       "             * Chrome.  But how to set the MIME type?  It doesn't seem\n",
       "             * to be part of the websocket stream */\n",
       "            evt.data.type = \"image/png\";\n",
       "\n",
       "            /* Free the memory for the previous frames */\n",
       "            if (fig.imageObj.src) {\n",
       "                (window.URL || window.webkitURL).revokeObjectURL(\n",
       "                    fig.imageObj.src);\n",
       "            }\n",
       "\n",
       "            fig.imageObj.src = (window.URL || window.webkitURL).createObjectURL(\n",
       "                evt.data);\n",
       "            fig.updated_canvas_event();\n",
       "            fig.waiting = false;\n",
       "            return;\n",
       "        }\n",
       "        else if (typeof evt.data === 'string' && evt.data.slice(0, 21) == \"data:image/png;base64\") {\n",
       "            fig.imageObj.src = evt.data;\n",
       "            fig.updated_canvas_event();\n",
       "            fig.waiting = false;\n",
       "            return;\n",
       "        }\n",
       "\n",
       "        var msg = JSON.parse(evt.data);\n",
       "        var msg_type = msg['type'];\n",
       "\n",
       "        // Call the  \"handle_{type}\" callback, which takes\n",
       "        // the figure and JSON message as its only arguments.\n",
       "        try {\n",
       "            var callback = fig[\"handle_\" + msg_type];\n",
       "        } catch (e) {\n",
       "            console.log(\"No handler for the '\" + msg_type + \"' message type: \", msg);\n",
       "            return;\n",
       "        }\n",
       "\n",
       "        if (callback) {\n",
       "            try {\n",
       "                // console.log(\"Handling '\" + msg_type + \"' message: \", msg);\n",
       "                callback(fig, msg);\n",
       "            } catch (e) {\n",
       "                console.log(\"Exception inside the 'handler_\" + msg_type + \"' callback:\", e, e.stack, msg);\n",
       "            }\n",
       "        }\n",
       "    };\n",
       "}\n",
       "\n",
       "// from http://stackoverflow.com/questions/1114465/getting-mouse-location-in-canvas\n",
       "mpl.findpos = function(e) {\n",
       "    //this section is from http://www.quirksmode.org/js/events_properties.html\n",
       "    var targ;\n",
       "    if (!e)\n",
       "        e = window.event;\n",
       "    if (e.target)\n",
       "        targ = e.target;\n",
       "    else if (e.srcElement)\n",
       "        targ = e.srcElement;\n",
       "    if (targ.nodeType == 3) // defeat Safari bug\n",
       "        targ = targ.parentNode;\n",
       "\n",
       "    // jQuery normalizes the pageX and pageY\n",
       "    // pageX,Y are the mouse positions relative to the document\n",
       "    // offset() returns the position of the element relative to the document\n",
       "    var x = e.pageX - $(targ).offset().left;\n",
       "    var y = e.pageY - $(targ).offset().top;\n",
       "\n",
       "    return {\"x\": x, \"y\": y};\n",
       "};\n",
       "\n",
       "/*\n",
       " * return a copy of an object with only non-object keys\n",
       " * we need this to avoid circular references\n",
       " * http://stackoverflow.com/a/24161582/3208463\n",
       " */\n",
       "function simpleKeys (original) {\n",
       "  return Object.keys(original).reduce(function (obj, key) {\n",
       "    if (typeof original[key] !== 'object')\n",
       "        obj[key] = original[key]\n",
       "    return obj;\n",
       "  }, {});\n",
       "}\n",
       "\n",
       "mpl.figure.prototype.mouse_event = function(event, name) {\n",
       "    var canvas_pos = mpl.findpos(event)\n",
       "\n",
       "    if (name === 'button_press')\n",
       "    {\n",
       "        this.canvas.focus();\n",
       "        this.canvas_div.focus();\n",
       "    }\n",
       "\n",
       "    var x = canvas_pos.x * mpl.ratio;\n",
       "    var y = canvas_pos.y * mpl.ratio;\n",
       "\n",
       "    this.send_message(name, {x: x, y: y, button: event.button,\n",
       "                             step: event.step,\n",
       "                             guiEvent: simpleKeys(event)});\n",
       "\n",
       "    /* This prevents the web browser from automatically changing to\n",
       "     * the text insertion cursor when the button is pressed.  We want\n",
       "     * to control all of the cursor setting manually through the\n",
       "     * 'cursor' event from matplotlib */\n",
       "    event.preventDefault();\n",
       "    return false;\n",
       "}\n",
       "\n",
       "mpl.figure.prototype._key_event_extra = function(event, name) {\n",
       "    // Handle any extra behaviour associated with a key event\n",
       "}\n",
       "\n",
       "mpl.figure.prototype.key_event = function(event, name) {\n",
       "\n",
       "    // Prevent repeat events\n",
       "    if (name == 'key_press')\n",
       "    {\n",
       "        if (event.which === this._key)\n",
       "            return;\n",
       "        else\n",
       "            this._key = event.which;\n",
       "    }\n",
       "    if (name == 'key_release')\n",
       "        this._key = null;\n",
       "\n",
       "    var value = '';\n",
       "    if (event.ctrlKey && event.which != 17)\n",
       "        value += \"ctrl+\";\n",
       "    if (event.altKey && event.which != 18)\n",
       "        value += \"alt+\";\n",
       "    if (event.shiftKey && event.which != 16)\n",
       "        value += \"shift+\";\n",
       "\n",
       "    value += 'k';\n",
       "    value += event.which.toString();\n",
       "\n",
       "    this._key_event_extra(event, name);\n",
       "\n",
       "    this.send_message(name, {key: value,\n",
       "                             guiEvent: simpleKeys(event)});\n",
       "    return false;\n",
       "}\n",
       "\n",
       "mpl.figure.prototype.toolbar_button_onclick = function(name) {\n",
       "    if (name == 'download') {\n",
       "        this.handle_save(this, null);\n",
       "    } else {\n",
       "        this.send_message(\"toolbar_button\", {name: name});\n",
       "    }\n",
       "};\n",
       "\n",
       "mpl.figure.prototype.toolbar_button_onmouseover = function(tooltip) {\n",
       "    this.message.textContent = tooltip;\n",
       "};\n",
       "mpl.toolbar_items = [[\"Home\", \"Reset original view\", \"fa fa-home icon-home\", \"home\"], [\"Back\", \"Back to previous view\", \"fa fa-arrow-left icon-arrow-left\", \"back\"], [\"Forward\", \"Forward to next view\", \"fa fa-arrow-right icon-arrow-right\", \"forward\"], [\"\", \"\", \"\", \"\"], [\"Pan\", \"Pan axes with left mouse, zoom with right\", \"fa fa-arrows icon-move\", \"pan\"], [\"Zoom\", \"Zoom to rectangle\", \"fa fa-square-o icon-check-empty\", \"zoom\"], [\"\", \"\", \"\", \"\"], [\"Download\", \"Download plot\", \"fa fa-floppy-o icon-save\", \"download\"]];\n",
       "\n",
       "mpl.extensions = [\"eps\", \"pdf\", \"png\", \"ps\", \"raw\", \"svg\"];\n",
       "\n",
       "mpl.default_extension = \"png\";var comm_websocket_adapter = function(comm) {\n",
       "    // Create a \"websocket\"-like object which calls the given IPython comm\n",
       "    // object with the appropriate methods. Currently this is a non binary\n",
       "    // socket, so there is still some room for performance tuning.\n",
       "    var ws = {};\n",
       "\n",
       "    ws.close = function() {\n",
       "        comm.close()\n",
       "    };\n",
       "    ws.send = function(m) {\n",
       "        //console.log('sending', m);\n",
       "        comm.send(m);\n",
       "    };\n",
       "    // Register the callback with on_msg.\n",
       "    comm.on_msg(function(msg) {\n",
       "        //console.log('receiving', msg['content']['data'], msg);\n",
       "        // Pass the mpl event to the overridden (by mpl) onmessage function.\n",
       "        ws.onmessage(msg['content']['data'])\n",
       "    });\n",
       "    return ws;\n",
       "}\n",
       "\n",
       "mpl.mpl_figure_comm = function(comm, msg) {\n",
       "    // This is the function which gets called when the mpl process\n",
       "    // starts-up an IPython Comm through the \"matplotlib\" channel.\n",
       "\n",
       "    var id = msg.content.data.id;\n",
       "    // Get hold of the div created by the display call when the Comm\n",
       "    // socket was opened in Python.\n",
       "    var element = $(\"#\" + id);\n",
       "    var ws_proxy = comm_websocket_adapter(comm)\n",
       "\n",
       "    function ondownload(figure, format) {\n",
       "        window.open(figure.imageObj.src);\n",
       "    }\n",
       "\n",
       "    var fig = new mpl.figure(id, ws_proxy,\n",
       "                           ondownload,\n",
       "                           element.get(0));\n",
       "\n",
       "    // Call onopen now - mpl needs it, as it is assuming we've passed it a real\n",
       "    // web socket which is closed, not our websocket->open comm proxy.\n",
       "    ws_proxy.onopen();\n",
       "\n",
       "    fig.parent_element = element.get(0);\n",
       "    fig.cell_info = mpl.find_output_cell(\"<div id='\" + id + \"'></div>\");\n",
       "    if (!fig.cell_info) {\n",
       "        console.error(\"Failed to find cell for figure\", id, fig);\n",
       "        return;\n",
       "    }\n",
       "\n",
       "    var output_index = fig.cell_info[2]\n",
       "    var cell = fig.cell_info[0];\n",
       "\n",
       "};\n",
       "\n",
       "mpl.figure.prototype.handle_close = function(fig, msg) {\n",
       "    var width = fig.canvas.width/mpl.ratio\n",
       "    fig.root.unbind('remove')\n",
       "\n",
       "    // Update the output cell to use the data from the current canvas.\n",
       "    fig.push_to_output();\n",
       "    var dataURL = fig.canvas.toDataURL();\n",
       "    // Re-enable the keyboard manager in IPython - without this line, in FF,\n",
       "    // the notebook keyboard shortcuts fail.\n",
       "    IPython.keyboard_manager.enable()\n",
       "    $(fig.parent_element).html('<img src=\"' + dataURL + '\" width=\"' + width + '\">');\n",
       "    fig.close_ws(fig, msg);\n",
       "}\n",
       "\n",
       "mpl.figure.prototype.close_ws = function(fig, msg){\n",
       "    fig.send_message('closing', msg);\n",
       "    // fig.ws.close()\n",
       "}\n",
       "\n",
       "mpl.figure.prototype.push_to_output = function(remove_interactive) {\n",
       "    // Turn the data on the canvas into data in the output cell.\n",
       "    var width = this.canvas.width/mpl.ratio\n",
       "    var dataURL = this.canvas.toDataURL();\n",
       "    this.cell_info[1]['text/html'] = '<img src=\"' + dataURL + '\" width=\"' + width + '\">';\n",
       "}\n",
       "\n",
       "mpl.figure.prototype.updated_canvas_event = function() {\n",
       "    // Tell IPython that the notebook contents must change.\n",
       "    IPython.notebook.set_dirty(true);\n",
       "    this.send_message(\"ack\", {});\n",
       "    var fig = this;\n",
       "    // Wait a second, then push the new image to the DOM so\n",
       "    // that it is saved nicely (might be nice to debounce this).\n",
       "    setTimeout(function () { fig.push_to_output() }, 1000);\n",
       "}\n",
       "\n",
       "mpl.figure.prototype._init_toolbar = function() {\n",
       "    var fig = this;\n",
       "\n",
       "    var nav_element = $('<div/>');\n",
       "    nav_element.attr('style', 'width: 100%');\n",
       "    this.root.append(nav_element);\n",
       "\n",
       "    // Define a callback function for later on.\n",
       "    function toolbar_event(event) {\n",
       "        return fig.toolbar_button_onclick(event['data']);\n",
       "    }\n",
       "    function toolbar_mouse_event(event) {\n",
       "        return fig.toolbar_button_onmouseover(event['data']);\n",
       "    }\n",
       "\n",
       "    for(var toolbar_ind in mpl.toolbar_items){\n",
       "        var name = mpl.toolbar_items[toolbar_ind][0];\n",
       "        var tooltip = mpl.toolbar_items[toolbar_ind][1];\n",
       "        var image = mpl.toolbar_items[toolbar_ind][2];\n",
       "        var method_name = mpl.toolbar_items[toolbar_ind][3];\n",
       "\n",
       "        if (!name) { continue; };\n",
       "\n",
       "        var button = $('<button class=\"btn btn-default\" href=\"#\" title=\"' + name + '\"><i class=\"fa ' + image + ' fa-lg\"></i></button>');\n",
       "        button.click(method_name, toolbar_event);\n",
       "        button.mouseover(tooltip, toolbar_mouse_event);\n",
       "        nav_element.append(button);\n",
       "    }\n",
       "\n",
       "    // Add the status bar.\n",
       "    var status_bar = $('<span class=\"mpl-message\" style=\"text-align:right; float: right;\"/>');\n",
       "    nav_element.append(status_bar);\n",
       "    this.message = status_bar[0];\n",
       "\n",
       "    // Add the close button to the window.\n",
       "    var buttongrp = $('<div class=\"btn-group inline pull-right\"></div>');\n",
       "    var button = $('<button class=\"btn btn-mini btn-primary\" href=\"#\" title=\"Stop Interaction\"><i class=\"fa fa-power-off icon-remove icon-large\"></i></button>');\n",
       "    button.click(function (evt) { fig.handle_close(fig, {}); } );\n",
       "    button.mouseover('Stop Interaction', toolbar_mouse_event);\n",
       "    buttongrp.append(button);\n",
       "    var titlebar = this.root.find($('.ui-dialog-titlebar'));\n",
       "    titlebar.prepend(buttongrp);\n",
       "}\n",
       "\n",
       "mpl.figure.prototype._root_extra_style = function(el){\n",
       "    var fig = this\n",
       "    el.on(\"remove\", function(){\n",
       "\tfig.close_ws(fig, {});\n",
       "    });\n",
       "}\n",
       "\n",
       "mpl.figure.prototype._canvas_extra_style = function(el){\n",
       "    // this is important to make the div 'focusable\n",
       "    el.attr('tabindex', 0)\n",
       "    // reach out to IPython and tell the keyboard manager to turn it's self\n",
       "    // off when our div gets focus\n",
       "\n",
       "    // location in version 3\n",
       "    if (IPython.notebook.keyboard_manager) {\n",
       "        IPython.notebook.keyboard_manager.register_events(el);\n",
       "    }\n",
       "    else {\n",
       "        // location in version 2\n",
       "        IPython.keyboard_manager.register_events(el);\n",
       "    }\n",
       "\n",
       "}\n",
       "\n",
       "mpl.figure.prototype._key_event_extra = function(event, name) {\n",
       "    var manager = IPython.notebook.keyboard_manager;\n",
       "    if (!manager)\n",
       "        manager = IPython.keyboard_manager;\n",
       "\n",
       "    // Check for shift+enter\n",
       "    if (event.shiftKey && event.which == 13) {\n",
       "        this.canvas_div.blur();\n",
       "        event.shiftKey = false;\n",
       "        // Send a \"J\" for go to next cell\n",
       "        event.which = 74;\n",
       "        event.keyCode = 74;\n",
       "        manager.command_mode();\n",
       "        manager.handle_keydown(event);\n",
       "    }\n",
       "}\n",
       "\n",
       "mpl.figure.prototype.handle_save = function(fig, msg) {\n",
       "    fig.ondownload(fig, null);\n",
       "}\n",
       "\n",
       "\n",
       "mpl.find_output_cell = function(html_output) {\n",
       "    // Return the cell and output element which can be found *uniquely* in the notebook.\n",
       "    // Note - this is a bit hacky, but it is done because the \"notebook_saving.Notebook\"\n",
       "    // IPython event is triggered only after the cells have been serialised, which for\n",
       "    // our purposes (turning an active figure into a static one), is too late.\n",
       "    var cells = IPython.notebook.get_cells();\n",
       "    var ncells = cells.length;\n",
       "    for (var i=0; i<ncells; i++) {\n",
       "        var cell = cells[i];\n",
       "        if (cell.cell_type === 'code'){\n",
       "            for (var j=0; j<cell.output_area.outputs.length; j++) {\n",
       "                var data = cell.output_area.outputs[j];\n",
       "                if (data.data) {\n",
       "                    // IPython >= 3 moved mimebundle to data attribute of output\n",
       "                    data = data.data;\n",
       "                }\n",
       "                if (data['text/html'] == html_output) {\n",
       "                    return [cell, data, j];\n",
       "                }\n",
       "            }\n",
       "        }\n",
       "    }\n",
       "}\n",
       "\n",
       "// Register the function which deals with the matplotlib target/channel.\n",
       "// The kernel may be null if the page has been refreshed.\n",
       "if (IPython.notebook.kernel != null) {\n",
       "    IPython.notebook.kernel.comm_manager.register_target('matplotlib', mpl.mpl_figure_comm);\n",
       "}\n"
      ],
      "text/plain": [
       "<IPython.core.display.Javascript object>"
      ]
     },
     "metadata": {},
     "output_type": "display_data"
    },
    {
     "data": {
      "text/html": [
       "<img src=\"data:image/png;base64,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\" width=\"640\">"
      ],
      "text/plain": [
       "<IPython.core.display.HTML object>"
      ]
     },
     "metadata": {},
     "output_type": "display_data"
    },
    {
     "data": {
      "text/plain": [
       "[<matplotlib.lines.Line2D at 0x1aac3a670f0>]"
      ]
     },
     "execution_count": 27,
     "metadata": {},
     "output_type": "execute_result"
    }
   ],
   "source": [
    "plt.plot(x)"
   ]
  },
  {
   "cell_type": "code",
   "execution_count": 28,
   "metadata": {},
   "outputs": [
    {
     "data": {
      "text/plain": [
       "[<matplotlib.lines.Line2D at 0x1aac39fb4e0>]"
      ]
     },
     "execution_count": 28,
     "metadata": {},
     "output_type": "execute_result"
    }
   ],
   "source": [
    "plt.plot(f)"
   ]
  },
  {
   "cell_type": "code",
   "execution_count": null,
   "metadata": {},
   "outputs": [],
   "source": []
  },
  {
   "cell_type": "markdown",
   "metadata": {},
   "source": [
    "#### zeros_like"
   ]
  },
  {
   "cell_type": "markdown",
   "metadata": {},
   "source": [
    "返回一个元素全是0，并且数组形状和原数组一致的数组"
   ]
  },
  {
   "cell_type": "code",
   "execution_count": 29,
   "metadata": {},
   "outputs": [],
   "source": [
    "x = np.arange(6).reshape((2,3))"
   ]
  },
  {
   "cell_type": "code",
   "execution_count": 30,
   "metadata": {},
   "outputs": [
    {
     "data": {
      "text/plain": [
       "array([[0, 1, 2],\n",
       "       [3, 4, 5]])"
      ]
     },
     "execution_count": 30,
     "metadata": {},
     "output_type": "execute_result"
    }
   ],
   "source": [
    "x"
   ]
  },
  {
   "cell_type": "code",
   "execution_count": 31,
   "metadata": {},
   "outputs": [
    {
     "data": {
      "text/plain": [
       "array([[0, 0, 0],\n",
       "       [0, 0, 0]])"
      ]
     },
     "execution_count": 31,
     "metadata": {},
     "output_type": "execute_result"
    }
   ],
   "source": [
    "np.zeros_like(x)"
   ]
  },
  {
   "cell_type": "code",
   "execution_count": 32,
   "metadata": {},
   "outputs": [
    {
     "data": {
      "text/plain": [
       "numpy.ndarray"
      ]
     },
     "execution_count": 32,
     "metadata": {},
     "output_type": "execute_result"
    }
   ],
   "source": [
    "type(np.zeros_like(x))"
   ]
  },
  {
   "cell_type": "code",
   "execution_count": null,
   "metadata": {},
   "outputs": [],
   "source": []
  },
  {
   "cell_type": "markdown",
   "metadata": {},
   "source": [
    "#### empty_like"
   ]
  },
  {
   "cell_type": "markdown",
   "metadata": {},
   "source": [
    "返回一个元素随机，形状和原数组一致的数组"
   ]
  },
  {
   "cell_type": "code",
   "execution_count": 33,
   "metadata": {},
   "outputs": [],
   "source": [
    "x = np.arange(6).reshape((2,3))"
   ]
  },
  {
   "cell_type": "code",
   "execution_count": 34,
   "metadata": {},
   "outputs": [
    {
     "data": {
      "text/plain": [
       "array([[-1145231776,         426,           0],\n",
       "       [          0,           1,         256]])"
      ]
     },
     "execution_count": 34,
     "metadata": {},
     "output_type": "execute_result"
    }
   ],
   "source": [
    "np.empty_like(x)"
   ]
  },
  {
   "cell_type": "code",
   "execution_count": null,
   "metadata": {},
   "outputs": [],
   "source": []
  },
  {
   "cell_type": "markdown",
   "metadata": {},
   "source": [
    "#### ones_like"
   ]
  },
  {
   "cell_type": "markdown",
   "metadata": {},
   "source": [
    "返回一个元素全是1，并且形状，类型和原数组一致的数组"
   ]
  },
  {
   "cell_type": "code",
   "execution_count": 36,
   "metadata": {},
   "outputs": [],
   "source": [
    "x = np.arange(6).reshape((2,3))"
   ]
  },
  {
   "cell_type": "code",
   "execution_count": 37,
   "metadata": {},
   "outputs": [
    {
     "data": {
      "text/plain": [
       "array([[1, 1, 1],\n",
       "       [1, 1, 1]])"
      ]
     },
     "execution_count": 37,
     "metadata": {},
     "output_type": "execute_result"
    }
   ],
   "source": [
    "np.ones_like(x)"
   ]
  },
  {
   "cell_type": "code",
   "execution_count": 38,
   "metadata": {},
   "outputs": [],
   "source": [
    "x = np.arange(3,dtype=np.float64)"
   ]
  },
  {
   "cell_type": "code",
   "execution_count": 39,
   "metadata": {},
   "outputs": [
    {
     "data": {
      "text/plain": [
       "array([1., 1., 1.])"
      ]
     },
     "execution_count": 39,
     "metadata": {},
     "output_type": "execute_result"
    }
   ],
   "source": [
    "np.ones_like(x)"
   ]
  },
  {
   "cell_type": "code",
   "execution_count": null,
   "metadata": {},
   "outputs": [],
   "source": []
  },
  {
   "cell_type": "markdown",
   "metadata": {},
   "source": [
    "#### full_like"
   ]
  },
  {
   "cell_type": "markdown",
   "metadata": {},
   "source": [
    "返回一个元素值给定，并且形状，类型和原数组一致的数组"
   ]
  },
  {
   "cell_type": "code",
   "execution_count": 41,
   "metadata": {},
   "outputs": [],
   "source": [
    "x = np.arange(6,dtype=np.int)"
   ]
  },
  {
   "cell_type": "code",
   "execution_count": 42,
   "metadata": {},
   "outputs": [
    {
     "data": {
      "text/plain": [
       "array([1, 1, 1, 1, 1, 1])"
      ]
     },
     "execution_count": 42,
     "metadata": {},
     "output_type": "execute_result"
    }
   ],
   "source": [
    "np.full_like(x,1)"
   ]
  },
  {
   "cell_type": "code",
   "execution_count": 43,
   "metadata": {},
   "outputs": [
    {
     "data": {
      "text/plain": [
       "array([0, 0, 0, 0, 0, 0])"
      ]
     },
     "execution_count": 43,
     "metadata": {},
     "output_type": "execute_result"
    }
   ],
   "source": [
    "np.full_like(x,0.1) #由于原数组元素是int类型，0.1会自动转为0"
   ]
  },
  {
   "cell_type": "code",
   "execution_count": 45,
   "metadata": {},
   "outputs": [
    {
     "data": {
      "text/plain": [
       "array([0.1, 0.1, 0.1, 0.1, 0.1, 0.1])"
      ]
     },
     "execution_count": 45,
     "metadata": {},
     "output_type": "execute_result"
    }
   ],
   "source": [
    "np.full_like(x,0.1,dtype=np.double) #指定full_like中dtype参数，可以改变目标数组中元素的类型"
   ]
  },
  {
   "cell_type": "code",
   "execution_count": 46,
   "metadata": {},
   "outputs": [
    {
     "data": {
      "text/plain": [
       "array([nan, nan, nan, nan, nan, nan])"
      ]
     },
     "execution_count": 46,
     "metadata": {},
     "output_type": "execute_result"
    }
   ],
   "source": [
    "np.full_like(x,np.nan,dtype=np.double)"
   ]
  },
  {
   "cell_type": "code",
   "execution_count": null,
   "metadata": {},
   "outputs": [],
   "source": []
  }
 ],
 "metadata": {
  "kernelspec": {
   "display_name": "data_a",
   "language": "python",
   "name": "data_a"
  },
  "language_info": {
   "codemirror_mode": {
    "name": "ipython",
    "version": 3
   },
   "file_extension": ".py",
   "mimetype": "text/x-python",
   "name": "python",
   "nbconvert_exporter": "python",
   "pygments_lexer": "ipython3",
   "version": "3.6.7"
  }
 },
 "nbformat": 4,
 "nbformat_minor": 2
}
